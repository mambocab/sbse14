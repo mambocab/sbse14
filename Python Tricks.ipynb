{
 "metadata": {
  "name": "",
  "signature": "sha256:a98e82f3b7e99e377075f29b5a7281b487d74d9a125c443d8005dbfe6b0b9a8c"
 },
 "nbformat": 3,
 "nbformat_minor": 0,
 "worksheets": [
  {
   "cells": [
    {
     "cell_type": "code",
     "collapsed": false,
     "input": [
      "from __future__ import division, print_function, unicode_literals\n",
      "import json"
     ],
     "language": "python",
     "metadata": {},
     "outputs": [],
     "prompt_number": 65
    },
    {
     "cell_type": "code",
     "collapsed": false,
     "input": [
      "# adapted from https://github.com/timm/sbse14/wiki/basepy\n",
      "\n",
      "class no_json_memo():\n",
      "    def __init__(self, **kwargs):\n",
      "        self.__dict__.update(kwargs)\n",
      "    \n",
      "    @property\n",
      "    def memo_keys(self):\n",
      "        return [k for k in self.__dict__.keys() if k[0] != '_']\n",
      "    \n",
      "    def show(self, level=0):\n",
      "        \"Don't use this! It doesn't really work.\"\n",
      "        d = self.__dict__\n",
      "        after = []\n",
      "        line, gap = '', '    ' * level\n",
      "        rv = ''\n",
      "        \n",
      "        for key in sorted(self.memo_keys):\n",
      "            val = d[key]\n",
      "            #print('key:', key)\n",
      "            if isinstance(val, (dict, memo)):\n",
      "                #print('appending', val)\n",
      "                after.append(key)\n",
      "            else:\n",
      "                #print('\\telse')\n",
      "                if callable(val):\n",
      "                    val = val.__name__\n",
      "                line += (':%s %s ' % (key,val))\n",
      "                #print('\\tline:', line)\n",
      "        rv += str(gap + line + '\\n')\n",
      "        for key in after: \n",
      "            rv += str(gap + (':%s' % key) + '\\n')\n",
      "            d[key].show(level=level+1)\n",
      "        \n",
      "        return rv\n"
     ],
     "language": "python",
     "metadata": {},
     "outputs": [],
     "prompt_number": 88
    },
    {
     "cell_type": "code",
     "collapsed": false,
     "input": [
      "# adapted from https://github.com/timm/sbse14/wiki/basepy\n",
      "\n",
      "class memo():\n",
      "    def __init__(self, **kwargs):\n",
      "        self.__dict__.update(kwargs)\n",
      "    \n",
      "    # from http://stackoverflow.com/a/15538391/3408454\n",
      "    def to_JSON(self, indent=None):\n",
      "        return json.dumps(self, default=lambda o: o.__dict__, sort_keys=True, indent=indent) \n",
      "    \n",
      "    @property\n",
      "    def json(self):\n",
      "        return self.to_JSON(indent=4)"
     ],
     "language": "python",
     "metadata": {},
     "outputs": [],
     "prompt_number": 89
    },
    {
     "cell_type": "code",
     "collapsed": false,
     "input": [
      "m = no_json_memo(whatevs=15)\n",
      "print(m.show())"
     ],
     "language": "python",
     "metadata": {},
     "outputs": [
      {
       "output_type": "stream",
       "stream": "stdout",
       "text": [
        ":whatevs 15 \n",
        "\n"
       ]
      }
     ],
     "prompt_number": 90
    },
    {
     "cell_type": "code",
     "collapsed": false,
     "input": [
      "m = memo(stats=memo(mean=3.5, median=3),\n",
      "         author=memo(name='Jim Witschey', twitter='mambocab', github='mambocab'))\n",
      "m.author.age = 25\n",
      "\n",
      "print(m.json)"
     ],
     "language": "python",
     "metadata": {},
     "outputs": [
      {
       "output_type": "stream",
       "stream": "stdout",
       "text": [
        "{\n",
        "    \"author\": {\n",
        "        \"age\": 25, \n",
        "        \"github\": \"mambocab\", \n",
        "        \"name\": \"Jim Witschey\", \n",
        "        \"twitter\": \"mambocab\"\n",
        "    }, \n",
        "    \"stats\": {\n",
        "        \"mean\": 3.5, \n",
        "        \"median\": 3\n",
        "    }\n",
        "}\n"
       ]
      }
     ],
     "prompt_number": 91
    },
    {
     "cell_type": "code",
     "collapsed": false,
     "input": [
      "s = set()\n",
      "s.add({'a': 1})\n",
      "print(s)"
     ],
     "language": "python",
     "metadata": {},
     "outputs": [
      {
       "ename": "TypeError",
       "evalue": "unhashable type: 'dict'",
       "output_type": "pyerr",
       "traceback": [
        "\u001b[0;31m---------------------------------------------------------------------------\u001b[0m\n\u001b[0;31mTypeError\u001b[0m                                 Traceback (most recent call last)",
        "\u001b[0;32m<ipython-input-13-f79af2f8bdc3>\u001b[0m in \u001b[0;36m<module>\u001b[0;34m()\u001b[0m\n\u001b[1;32m      1\u001b[0m \u001b[0ms\u001b[0m \u001b[0;34m=\u001b[0m \u001b[0mset\u001b[0m\u001b[0;34m(\u001b[0m\u001b[0;34m)\u001b[0m\u001b[0;34m\u001b[0m\u001b[0m\n\u001b[0;32m----> 2\u001b[0;31m \u001b[0ms\u001b[0m\u001b[0;34m.\u001b[0m\u001b[0madd\u001b[0m\u001b[0;34m(\u001b[0m\u001b[0;34m{\u001b[0m\u001b[0;34m'a'\u001b[0m\u001b[0;34m:\u001b[0m \u001b[0;36m1\u001b[0m\u001b[0;34m}\u001b[0m\u001b[0;34m)\u001b[0m\u001b[0;34m\u001b[0m\u001b[0m\n\u001b[0m\u001b[1;32m      3\u001b[0m \u001b[0;32mprint\u001b[0m\u001b[0;34m(\u001b[0m\u001b[0ms\u001b[0m\u001b[0;34m)\u001b[0m\u001b[0;34m\u001b[0m\u001b[0m\n",
        "\u001b[0;31mTypeError\u001b[0m: unhashable type: 'dict'"
       ]
      }
     ],
     "prompt_number": 13
    },
    {
     "cell_type": "code",
     "collapsed": false,
     "input": [
      "1j + 1"
     ],
     "language": "python",
     "metadata": {},
     "outputs": [
      {
       "metadata": {},
       "output_type": "pyout",
       "prompt_number": 2,
       "text": [
        "(1+1j)"
       ]
      }
     ],
     "prompt_number": 2
    },
    {
     "cell_type": "code",
     "collapsed": false,
     "input": [],
     "language": "python",
     "metadata": {},
     "outputs": []
    }
   ],
   "metadata": {}
  }
 ]
}
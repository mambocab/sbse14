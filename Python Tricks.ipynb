{
 "metadata": {
  "name": "",
  "signature": "sha256:9b62f96aca37f7aedb46edc03f87a1d910a5bc285207115335c7d4c3f79b43e9"
 },
 "nbformat": 3,
 "nbformat_minor": 0,
 "worksheets": [
  {
   "cells": [
    {
     "cell_type": "code",
     "collapsed": false,
     "input": [
      "from witschey.base import memo"
     ],
     "language": "python",
     "metadata": {},
     "outputs": [],
     "prompt_number": 1
    },
    {
     "cell_type": "code",
     "collapsed": false,
     "input": [
      "m = memo(lol='nice', f=abs, me='jim witschey', age=25,\n",
      "         contact=memo(email='jim.witschey@gmail.com', github='mambocab', twitter=['@mambocab', '@jimwitschey']),\n",
      "         sortedtree=memo(root=memo(value=5, left=memo(value=1, left=None, right=memo(value=4, left=None, right=None)))))"
     ],
     "language": "python",
     "metadata": {},
     "outputs": [],
     "prompt_number": 2
    },
    {
     "cell_type": "code",
     "collapsed": false,
     "input": [
      "print(m.to_str())"
     ],
     "language": "python",
     "metadata": {},
     "outputs": [
      {
       "output_type": "stream",
       "stream": "stdout",
       "text": [
        "{\n",
        "    age: 25, f: <built-in function abs>, lol: 'nice', me: 'jim witschey', \n",
        "    contact: {\n",
        "        email: 'jim.witschey@gmail.com', github: 'mambocab', twitter: ['@mambocab', '@jimwitschey'], \n",
        "    }\n",
        "    sortedtree: {\n",
        "        \n",
        "        root: {\n",
        "            value: 5, \n",
        "            left: {\n",
        "                left: None, value: 1, \n",
        "                right: {\n",
        "                    left: None, right: None, value: 4, \n",
        "                }\n",
        "            }\n",
        "        }\n",
        "    }\n",
        "}\n"
       ]
      }
     ],
     "prompt_number": 3
    },
    {
     "cell_type": "code",
     "collapsed": false,
     "input": [
      "from collections import Iterable\n",
      "class StringBuilder(object):\n",
      "    def __init__(self, *args):\n",
      "        self._s = ''.join(args)\n",
      "        self._next = []\n",
      "    \n",
      "    def append(self, arg):\n",
      "        print('appending {}'.format(arg))\n",
      "        if isinstance(arg, basestring):\n",
      "            self._next.append(arg)\n",
      "        elif isinstance(arg, Iterable):\n",
      "            map(self.append, arg)\n",
      "        else:\n",
      "            raise ValueError('{} not a string or iterable'.format(arg))\n",
      "\n",
      "    __iadd__ = append\n",
      "        \n",
      "    def as_str(self):\n",
      "        if self._next:\n",
      "            self._s += ''.join(self._next)\n",
      "            self._next = []\n",
      "        return self._s\n",
      "    \n",
      "    def __repr__(self):\n",
      "        print('repr, lol')\n",
      "        return \"{}('{}')\".format(self.__class__.__name__, self.as_str())\n",
      "\n",
      "test_sb_0 = StringBuilder()\n",
      "test_sb_1 = StringBuilder('lol')\n",
      "test_sb_many = StringBuilder('hey', ' ', 'man')\n",
      "\n",
      "test_sb_many += ['lol']"
     ],
     "language": "python",
     "metadata": {},
     "outputs": [
      {
       "output_type": "stream",
       "stream": "stdout",
       "text": [
        "appending ['lol']\n",
        "appending lol\n"
       ]
      }
     ],
     "prompt_number": 23
    },
    {
     "cell_type": "code",
     "collapsed": false,
     "input": [
      "print([].append(3))"
     ],
     "language": "python",
     "metadata": {},
     "outputs": [
      {
       "output_type": "stream",
       "stream": "stdout",
       "text": [
        "None\n"
       ]
      }
     ],
     "prompt_number": 20
    },
    {
     "cell_type": "code",
     "collapsed": false,
     "input": [],
     "language": "python",
     "metadata": {},
     "outputs": []
    }
   ],
   "metadata": {}
  }
 ]
}
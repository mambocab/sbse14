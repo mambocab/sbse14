{
 "metadata": {
  "name": "",
  "signature": "sha256:dff4aac4fd7cb5a402a88acc2e71a3f70d978d24cc65acbf716032932869d547"
 },
 "nbformat": 3,
 "nbformat_minor": 0,
 "worksheets": [
  {
   "cells": [
    {
     "cell_type": "code",
     "collapsed": false,
     "input": [],
     "language": "python",
     "metadata": {},
     "outputs": []
    }
   ],
   "metadata": {}
  }
 ]
}
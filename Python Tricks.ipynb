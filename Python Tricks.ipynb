{
 "metadata": {
  "name": "",
  "signature": "sha256:94692855c2336cf5e8138de19e0726544935ac0c4d69c94ad1a9a8dc95851de3"
 },
 "nbformat": 3,
 "nbformat_minor": 0,
 "worksheets": [
  {
   "cells": [
    {
     "cell_type": "code",
     "collapsed": false,
     "input": [
      "from witschey.base import memo"
     ],
     "language": "python",
     "metadata": {},
     "outputs": [],
     "prompt_number": 1
    },
    {
     "cell_type": "code",
     "collapsed": false,
     "input": [
      "m = memo(lol='nice', f=abs, me='jim witschey', age=25,\n",
      "         contact=memo(email='jim.witschey@gmail.com', github='mambocab', twitter=['@mambocab', '@jimwitschey']),\n",
      "         sortedtree=memo(root=memo(value=5, left=memo(value=1, left=None, right=memo(value=4, left=None, right=None)))))"
     ],
     "language": "python",
     "metadata": {},
     "outputs": [],
     "prompt_number": 2
    },
    {
     "cell_type": "code",
     "collapsed": false,
     "input": [
      "print(m.to_str())"
     ],
     "language": "python",
     "metadata": {},
     "outputs": [
      {
       "output_type": "stream",
       "stream": "stdout",
       "text": [
        "age: 25, f: <built-in function abs>, lol: 'nice', me: 'jim witschey', \n",
        "contact, {\n",
        "    email: 'jim.witschey@gmail.com', github: 'mambocab', twitter: ['@mambocab', '@jimwitschey'], \n",
        "}\n",
        "sortedtree, {\n",
        "    \n",
        "    root, {\n",
        "        value: 5, \n",
        "        left, {\n",
        "            left: None, value: 1, \n",
        "            right, {\n",
        "                left: None, right: None, value: 4, \n",
        "            }\n",
        "        }\n",
        "    }\n",
        "}\n",
        "\n"
       ]
      }
     ],
     "prompt_number": 3
    },
    {
     "cell_type": "code",
     "collapsed": false,
     "input": [],
     "language": "python",
     "metadata": {},
     "outputs": [
      {
       "metadata": {},
       "output_type": "pyout",
       "prompt_number": 10,
       "text": [
        "builtin_function_or_method"
       ]
      }
     ],
     "prompt_number": 10
    }
   ],
   "metadata": {}
  }
 ]
}